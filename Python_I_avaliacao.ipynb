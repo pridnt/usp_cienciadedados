{
  "nbformat": 4,
  "nbformat_minor": 0,
  "metadata": {
    "kernelspec": {
      "display_name": "Python 3",
      "language": "python",
      "name": "python3"
    },
    "language_info": {
      "codemirror_mode": {
        "name": "ipython",
        "version": 3
      },
      "file_extension": ".py",
      "mimetype": "text/x-python",
      "name": "python",
      "nbconvert_exporter": "python",
      "pygments_lexer": "ipython3",
      "version": "3.8.1"
    },
    "toc": {
      "base_numbering": 1,
      "nav_menu": {},
      "number_sections": true,
      "sideBar": true,
      "skip_h1_title": false,
      "title_cell": "Table of Contents",
      "title_sidebar": "Contents",
      "toc_cell": false,
      "toc_position": {},
      "toc_section_display": true,
      "toc_window_display": false
    },
    "colab": {
      "name": "Python I avaliacao.ipynb",
      "provenance": [],
      "include_colab_link": true
    }
  },
  "cells": [
    {
      "cell_type": "markdown",
      "metadata": {
        "id": "view-in-github",
        "colab_type": "text"
      },
      "source": [
        "<a href=\"https://colab.research.google.com/github/pridnt/usp_cienciadedados/blob/master/Python_I_avaliacao.ipynb\" target=\"_parent\"><img src=\"https://colab.research.google.com/assets/colab-badge.svg\" alt=\"Open In Colab\"/></a>"
      ]
    },
    {
      "cell_type": "markdown",
      "metadata": {
        "id": "E9ekbYEyBALe",
        "colab_type": "text"
      },
      "source": [
        "# <span style=\"color:blue\"> MBA em Ciência de Dados</span>\n",
        "# <span style=\"color:blue\">Programação para Ciência de Dados</span>\n",
        "\n",
        "## <span style=\"color:blue\">Python Parte I: Avaliação</span>\n",
        "**Material Produzido por Luis Gustavo Nonato**<br>\n",
        "**Cemeai - ICMC/USP São Carlos**"
      ]
    },
    {
      "cell_type": "markdown",
      "metadata": {
        "id": "tZyF72i_BALg",
        "colab_type": "text"
      },
      "source": [
        "<font color='red'> As respostas devem ser fornecidas no Moodle. O notebook é apenas para a implementação dos códigos que fornecerão as respostas</font>"
      ]
    },
    {
      "cell_type": "markdown",
      "metadata": {
        "id": "aGXZmOLEBALk",
        "colab_type": "text"
      },
      "source": [
        "### Exercício 1\n",
        "Considere a lista `lt` abaixo. Escreva um código para calcular quantos números são múltiplos de 2 e quantos são múltiplos de 3.\n",
        "\n",
        "a) múltiplos de 2 = 13; múltiplos de 3 = 20<br>\n",
        "b) múltiplos de 2 = 20; múltiplos de 3 = 15<br>\n",
        "c) múltiplos de 2 = 15; múltiplos de 3 = 7<br>\n",
        "d) múltiplos de 2 = 22; múltiplos de 3 = 20"
      ]
    },
    {
      "cell_type": "code",
      "metadata": {
        "id": "XPQoNiHZBALm",
        "colab_type": "code",
        "outputId": "afd9bd22-1d2b-4c3c-bf20-8ca40e15b2fc",
        "colab": {
          "base_uri": "https://localhost:8080/",
          "height": 51
        }
      },
      "source": [
        "lt = [99, 128, 185, 19, 215, 493, 104, 78, 248, 299, 278, 141, 467, \n",
        "           212, 465, 130, 320, 35, 148, 351, 176, 366, 373, 256, 314, \n",
        "           354, 188, 259, 443, 81, 447, 313, 368, 197, 185, 328, 275, \n",
        "           269, 153, 495, 155, 312, 87, 141, 413, 129, 106, 44, 245, 479]\n",
        "\n",
        "div2 = 0\n",
        "div3 = 0\n",
        "\n",
        "for i in lt:\n",
        "  if i % 2 == 0:\n",
        "    div2 += 1\n",
        "\n",
        "  if i % 3 == 0:\n",
        "    div3 += 1\n",
        "\n",
        "print(div2)\n",
        "print(div3)"
      ],
      "execution_count": 0,
      "outputs": [
        {
          "output_type": "stream",
          "text": [
            "20\n",
            "15\n"
          ],
          "name": "stdout"
        }
      ]
    },
    {
      "cell_type": "markdown",
      "metadata": {
        "id": "cC_sllShBALr",
        "colab_type": "text"
      },
      "source": [
        "### Exercício 2\n",
        "Considere a lista `palavras` abaixo. Escreva um código para encontrar a plavra com o maior número de letras (caracteres). A palavra é:\n",
        "\n",
        "a) imprescindivel<br>\n",
        "b) resiliente<br>\n",
        "c) palimpsesto<br>\n",
        "d) palimpsesto"
      ]
    },
    {
      "cell_type": "code",
      "metadata": {
        "id": "3PXQ9W3vBALs",
        "colab_type": "code",
        "outputId": "15e23045-554a-4d75-db09-ff153af044c1",
        "colab": {
          "base_uri": "https://localhost:8080/",
          "height": 34
        }
      },
      "source": [
        "palavras = ['adeus','adoravel','amor','caminhos','chuva','coragem','cuidar','equilibrio',\n",
        "            'esperanca','felicidade','gentilezas','liberdade','melancolia','paz','respeito',\n",
        "            'riso','saudade','palimpsesto','perfeito','reciproco','recomeçar',\n",
        "            'resiliente','sentir','silencio','imprescindivel','sublime','tertulias']\n",
        "\n",
        "maxPalavra = ''\n",
        "\n",
        "for palavra in palavras:\n",
        "  if len(palavra) > len(maxPalavra):\n",
        "    maxPalavra = palavra\n",
        "\n",
        "print(maxPalavra)"
      ],
      "execution_count": 0,
      "outputs": [
        {
          "output_type": "stream",
          "text": [
            "imprescindivel\n"
          ],
          "name": "stdout"
        }
      ]
    },
    {
      "cell_type": "markdown",
      "metadata": {
        "id": "8uRsvEvSBALv",
        "colab_type": "text"
      },
      "source": [
        "---\n",
        "\n",
        "Os exercícios de 3 a 5 abaixo fazem uso da lista de tuplas `dados_deputados` definida abaixo. Cada elemento da lista corresponde a uma tupla com nome de um deputado, estado e partido ao qual o deputado pertence e o valor de reembolso solicitado em um determinado mês do ano, ou seja:\n",
        "\n",
        "```python\n",
        "dados_deputados = [(NOME, ESTADO, PARTIDO, VALOR),\n",
        "                   (NOME, ESTADO, PARTIDO, VALOR),\n",
        "                    ...\n",
        "                   (NOME, ESTADO, PARTIDO, VALOR)]\n",
        "```"
      ]
    },
    {
      "cell_type": "code",
      "metadata": {
        "id": "ftC-GsfVBALw",
        "colab_type": "code",
        "colab": {}
      },
      "source": [
        "dados_deputados = [('JOSE STEDILE', 'RS', 'PSB', 106.03), ('BENITO GAMA', 'BA', 'PTB', 46.82),\n",
        "                   ('LUCIO VIEIRA LIMA', 'BA', 'PMDB', 332.0), ('FABIO REIS', 'SE', 'PMDB', 80.0), \n",
        "                   ('LUIZA ERUNDINA', 'SP', 'PSOL', 5.7), ('MAURO MARIANI', 'SC', 'PMDB', 526.68), \n",
        "                   ('MAJOR OLIMPIO', 'SP', 'SD', 38.1), ('BETINHO GOMES', 'PE', 'PSDB', 12000.0), \n",
        "                   ('PAULO ABI-ACKEL', 'MG', 'PSDB', 972.72), ('EZEQUIEL TEIXEIRA', 'RJ', 'PTN', 50.0), \n",
        "                   ('ADELMO CARNEIRO LEÃO', 'MG', 'PT', 709.72), ('HISSA ABRAHAO', 'AM', 'PDT', 1379.58), \n",
        "                   ('PAES LANDIM', 'PI', 'PTB', 1091.66), ('ANDRES SANCHEZ', 'SP', 'PT', 61.4), \n",
        "                   ('JOZI ARAUJO', 'AP', 'PTN', 141.0), ('ROBERTO FREIRE', 'SP', 'PPS', 161.88), \n",
        "                   ('ELIZIANE GAMA', 'MA', 'PPS', 546.73), ('CACA LEAO', 'BA', 'PP', 77.5), \n",
        "                   ('DIMAS FABIANO', 'MG', 'PP', 185.0), ('SILVIO TORRES', 'SP', 'PSDB', 233.0), \n",
        "                   ('RICARDO TEOBALDO ', 'PE', 'PTN', 50.0), ('ZECA DIRCEU', 'PR', 'PT', 499.29), \n",
        "                   ('ROCHA', 'AC', 'PSDB', 152.9), ('LAUDIVIO CARVALHO', 'MG', 'SD', 15.6), \n",
        "                   ('CRISTIANE BRASIL', 'RJ', 'PTB', 240.45), ('FABIO SOUSA', 'GO', 'PSDB', 80.0), \n",
        "                   ('CARLOS MANATO', 'ES', 'SD', 124.9), ('GONZAGA PATRIOTA', 'PE', 'PSB', 6.0), \n",
        "                   ('LUIZ COUTO', 'PB', 'PT', 868.83), ('EZEQUIEL TEIXEIRA', 'RJ', 'PTN', 710.45), \n",
        "                   ('MAURO LOPES', 'MG', 'PMDB', 92.6), ('MARCIO ALVINO', 'SP', 'PR', 5.2)]"
      ],
      "execution_count": 0,
      "outputs": []
    },
    {
      "cell_type": "markdown",
      "metadata": {
        "id": "r0r7CuYmBAL0",
        "colab_type": "text"
      },
      "source": [
        "### Exercício 3\n",
        "Escreva um código para calcular o valor total dos reembolsos solicitado.\n",
        "\n",
        "a) 21591.74<br>\n",
        "b) 19783.71<br>\n",
        "c) 27136.50<br>\n",
        "d) 42313.13"
      ]
    },
    {
      "cell_type": "code",
      "metadata": {
        "id": "UUI2Gi_oBAL1",
        "colab_type": "code",
        "colab": {
          "base_uri": "https://localhost:8080/",
          "height": 34
        },
        "outputId": "51574665-a225-4a17-a6ca-26e509b64ab2"
      },
      "source": [
        "valorTotal = 0\n",
        "\n",
        "for item in dados_deputados:\n",
        "  valorTotal += item[3]\n",
        "\n",
        "print(valorTotal)"
      ],
      "execution_count": 15,
      "outputs": [
        {
          "output_type": "stream",
          "text": [
            "21591.740000000005\n"
          ],
          "name": "stdout"
        }
      ]
    },
    {
      "cell_type": "markdown",
      "metadata": {
        "id": "y-2Cv0FLBAL4",
        "colab_type": "text"
      },
      "source": [
        "### Exercício 4\n",
        "Escreva um código para encontrar qual estado possui o maior valor total de reembolsos, ou seja, somando os reembolsos de todos os deputados de cada estado, qual estado possui o maior valor de reembolso? Qual é o estado e o valor correspondente?\n",
        "\n",
        "__Dica:__ Crie um dicionário onde as chaves são os estados.\n",
        "\n",
        "a) SP, 9546.60<br>\n",
        "b) MA, 19456.87<br>\n",
        "c) MT, 11132.70<br>\n",
        "d) PE, 12056.00"
      ]
    },
    {
      "cell_type": "code",
      "metadata": {
        "id": "cJy3EWNOBAL6",
        "colab_type": "code",
        "colab": {
          "base_uri": "https://localhost:8080/",
          "height": 34
        },
        "outputId": "3d8b25d3-4e89-40ac-c348-df2c48bb1886"
      },
      "source": [
        "estadoReembolso = {}\n",
        "\n",
        "for item in dados_deputados:\n",
        "  if item[1] in estadoReembolso:\n",
        "    estadoReembolso[item[1]] = estadoReembolso[item[1]] + item[3]\n",
        "  else:\n",
        "    estadoReembolso[item[1]] = item[3]\n",
        "\n",
        "maximum = max(estadoReembolso, key=estadoReembolso.get) \n",
        "print(maximum, estadoReembolso[maximum])"
      ],
      "execution_count": 7,
      "outputs": [
        {
          "output_type": "stream",
          "text": [
            "PE 12056.0\n"
          ],
          "name": "stdout"
        }
      ]
    },
    {
      "cell_type": "markdown",
      "metadata": {
        "id": "jEpGkouQBAL-",
        "colab_type": "text"
      },
      "source": [
        "### Exercício 5\n",
        "Escreva um código para encontrar qual partido requisitou o mais reembolsos (não o valor, mas sim o número de vezes solicitadas).\n",
        "Qual o partido e a quantidade de vezes solicitadas?\n",
        "\n",
        "a) PTB, 3 vezes<br>\n",
        "b) PT, 2 vezes<br>\n",
        "c) PSDB, 5 vezes<br>\n",
        "d) PMDB, 5 vezes"
      ]
    },
    {
      "cell_type": "code",
      "metadata": {
        "id": "S9vhAnwIBAL_",
        "colab_type": "code",
        "colab": {
          "base_uri": "https://localhost:8080/",
          "height": 34
        },
        "outputId": "51c9bc61-3f47-44aa-e344-29103c924011"
      },
      "source": [
        "partidoCount = {}\n",
        "\n",
        "for item in dados_deputados:\n",
        "  if item[2] in partidoCount:\n",
        "    partidoCount[item[2]] = partidoCount[item[2]] + 1\n",
        "  else:\n",
        "    partidoCount[item[2]] = 1\n",
        "\n",
        "maximum = max(partidoCount, key=partidoCount.get) \n",
        "print(maximum, partidoCount[maximum])"
      ],
      "execution_count": 6,
      "outputs": [
        {
          "output_type": "stream",
          "text": [
            "PSDB 5\n"
          ],
          "name": "stdout"
        }
      ]
    }
  ]
}